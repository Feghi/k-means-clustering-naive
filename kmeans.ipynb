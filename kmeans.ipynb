{
 "cells": [
  {
   "cell_type": "code",
   "execution_count": 1,
   "metadata": {},
   "outputs": [],
   "source": [
    "##############################################################################################\n",
    "###                             k-means 클러스터링 기법                                    ###\n",
    "###                https://gist.github.com/pmsosa/ 의 코드를 주석처리함                    ###\n",
    "##############################################################################################\n",
    "\n",
    "import random\n",
    "import math\n",
    "\n",
    "#d 차원 데이터의 유클리디언 거리 계산\n",
    "def eucldist(p0,p1):\n",
    "    dist = 0.0\n",
    "    for i in range(0,len(p0)):\n",
    "        dist += (p0[i] - p1[i])**2\n",
    "    return math.sqrt(dist)\n",
    "\n"
   ]
  },
  {
   "cell_type": "code",
   "execution_count": 2,
   "metadata": {},
   "outputs": [],
   "source": [
    "\n",
    "    \n",
    "#k-means 알고리즘\n",
    "def kmeans(k,datapoints):\n",
    "\n",
    "    # 데이터 차원을 d로 저장\n",
    "    d = len(datapoints[0]) \n",
    "    \n",
    "    # 반복수 최대 값 설정\n",
    "    Max_Iterations = 1000\n",
    "    i = 0\n",
    "    \n",
    "    cluster = [0] * len(datapoints)\n",
    "    prev_cluster = [-1] * len(datapoints)\n",
    "    \n",
    "    #센터 포인트 선택(랜덤 선택 k-means 오리지날 알고리즘)\n",
    "    cluster_centers = []\n",
    "    for i in range(0,k):\n",
    "        new_cluster = []\n",
    "        cluster_centers += [random.choice(datapoints)]\n",
    "        \n",
    "        \n",
    "        #초기점을 잘못 선택했을 시에 해당 초기점을 포함하는 군집이 생성 안될 수 도 있음\n",
    "        #force_recalculation을 통해서 강제로 k개의 클러스터릉 강제 하게함\n",
    "       \n",
    "        force_recalculation = False\n",
    "    \n",
    "    while (cluster != prev_cluster) or (i > Max_Iterations) or (force_recalculation) :\n",
    "        \n",
    "        prev_cluster = list(cluster)\n",
    "        force_recalculation = False\n",
    "        i += 1\n",
    "    \n",
    "        #클러스터에 들어가는 데이터 포인트 업데이트\n",
    "        for p in range(0,len(datapoints)):\n",
    "            min_dist = float(\"inf\")\n",
    "            \n",
    "            #클러스터 별 모든 데이터 페어에 대해서 유클리디언 거리 계산\n",
    "            for c in range(0,len(cluster_centers)):\n",
    "                \n",
    "                dist = eucldist(datapoints[p],cluster_centers[c])\n",
    "                \n",
    "                if (dist < min_dist):\n",
    "                    min_dist = dist  \n",
    "                    cluster[p] = c   # 새 클러스터에 데이터 할당\n",
    "        \n",
    "        \n",
    "        #클러스터 위치(초기점 위치) 업데이트\n",
    "        for k in range(0,len(cluster_centers)):\n",
    "            new_center = [0] * d\n",
    "            members = 0\n",
    "            for p in range(0,len(datapoints)):\n",
    "                if (cluster[p] == k): #이 데이터 포인트가 해당 클러스터에 속하는 경우\n",
    "                    for j in range(0,d):\n",
    "                        new_center[j] += datapoints[p][j]\n",
    "                    members += 1\n",
    "            \n",
    "            for j in range(0,d):\n",
    "                if members != 0:\n",
    "                    # 데이터 센터의 평균으로 새 클러스터의 위치 계산\n",
    "                    new_center[j] = new_center[j] / float(members) \n",
    "                \n",
    "                #초기점 선택이 잘못 되었을 경우 랜덤 초이스\n",
    "                #k 개의 클러스터를 강제로 만들기 위해 랜덤 선택으로 새로운 초기값을 설정\n",
    "                else: \n",
    "                    new_center = random.choice(datapoints)\n",
    "                    force_recalculation = True\n",
    "                    print('Forced Recalculation...')\n",
    "                    \n",
    "            \n",
    "            cluster_centers[k] = new_center\n",
    "    \n",
    "        \n",
    "\n",
    "    print('Clusters', cluster_centers)\n",
    "    print('Iterations',i)\n",
    "    print('Assignments', cluster)"
   ]
  },
  {
   "cell_type": "code",
   "execution_count": 3,
   "metadata": {},
   "outputs": [
    {
     "name": "stdout",
     "output_type": "stream",
     "text": [
      "Clusters [[2.5, 2.625], [11.4, 12.2]]\n",
      "Iterations 4\n",
      "Assignments [0, 0, 0, 0, 0, 0, 0, 0, 1, 1, 1, 1, 1]\n"
     ]
    }
   ],
   "source": [
    "\n",
    "# 임의의 2차원 데이터 포인트를 선택\n",
    "#원하는 차원 or 크기의 튜플로 데이터를 변경해보세요.\n",
    "datapoints = [(3,2),(2,2),(1,2),(0,1),(1,0),(1,1),(5,6),(7,7),(9,10),(11,13),(12,12),(12,13),(13,13)]\n",
    "\n",
    "k = 2 # 클러스터의 개수\n",
    "      \n",
    "#k-means 클러스터링\n",
    "kmeans(k,datapoints) "
   ]
  },
  {
   "cell_type": "code",
   "execution_count": null,
   "metadata": {},
   "outputs": [],
   "source": []
  }
 ],
 "metadata": {
  "kernelspec": {
   "display_name": "Python 3",
   "language": "python",
   "name": "python3"
  },
  "language_info": {
   "codemirror_mode": {
    "name": "ipython",
    "version": 3
   },
   "file_extension": ".py",
   "mimetype": "text/x-python",
   "name": "python",
   "nbconvert_exporter": "python",
   "pygments_lexer": "ipython3",
   "version": "3.7.4"
  }
 },
 "nbformat": 4,
 "nbformat_minor": 2
}
